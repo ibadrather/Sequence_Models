{
 "cells": [
  {
   "cell_type": "markdown",
   "metadata": {},
   "source": [
    "# Character-Level LSTM in PyTorch\n",
    "\n",
    "In this notebook, I'll construct a character-level LSTM with PyTorch. The network will train character by character on some text, then generate new text character by character. As an example, I will train on Anna Karenina. **This model will be able to generate new text based on the text from the book!**\n",
    "\n",
    "This network is based off of Andrej Karpathy's [post on RNNs](http://karpathy.github.io/2015/05/21/rnn-effectiveness/) and [implementation in Torch](https://github.com/karpathy/char-rnn). Below is the general architecture of the character-wise RNN.\n",
    "\n",
    "<img src=\"assets/charseq.jpeg\" width=\"500\">"
   ]
  },
  {
   "cell_type": "markdown",
   "metadata": {},
   "source": [
    "First let's load in our required resources for data loading and model creation."
   ]
  },
  {
   "cell_type": "code",
   "execution_count": 1,
   "metadata": {},
   "outputs": [],
   "source": [
    "import numpy as np\n",
    "import torch\n",
    "from torch import nn\n",
    "import torch.nn.functional as F"
   ]
  },
  {
   "cell_type": "markdown",
   "metadata": {},
   "source": [
    "## Load in Data\n",
    "\n",
    "Then, we'll load the Anna Karenina text file and convert it into integers for our network to use. "
   ]
  },
  {
   "cell_type": "code",
   "execution_count": 2,
   "metadata": {},
   "outputs": [],
   "source": [
    "# open text file and read in data as `text`\n",
    "with open('data/anna.txt', 'r') as f:\n",
    "    text = f.read()"
   ]
  },
  {
   "cell_type": "markdown",
   "metadata": {},
   "source": [
    "Let's check out the first 100 characters, make sure everything is peachy. According to the [American Book Review](http://americanbookreview.org/100bestlines.asp), this is the 6th best first line of a book ever."
   ]
  },
  {
   "cell_type": "code",
   "execution_count": 3,
   "metadata": {},
   "outputs": [
    {
     "data": {
      "text/plain": [
       "'Chapter 1\\n\\n\\nHappy families are all alike; every unhappy family is unhappy in its own\\nway.\\n\\nEverythin'"
      ]
     },
     "execution_count": 3,
     "metadata": {},
     "output_type": "execute_result"
    }
   ],
   "source": [
    "text[:100]"
   ]
  },
  {
   "cell_type": "markdown",
   "metadata": {},
   "source": [
    "### Tokenization\n",
    "\n",
    "In the cells, below, I'm creating a couple of **dictionaries** to convert the characters to and from integers. Encoding the characters as integers makes it easier to use as input in the network."
   ]
  },
  {
   "cell_type": "code",
   "execution_count": 4,
   "metadata": {},
   "outputs": [],
   "source": [
    "# encode the text and map each character to an integer and vice versa\n",
    "\n",
    "# we create two dictionaries:\n",
    "# 1. int2char, which maps integers to characters\n",
    "# 2. char2int, which maps characters to unique integers\n",
    "chars = tuple(set(text))    # A vocabulary\n",
    "int2char = dict(enumerate(chars))\n",
    "char2int = {ch: ii for ii, ch in int2char.items()}\n",
    "\n",
    "# encode the text\n",
    "encoded = np.array([char2int[ch] for ch in text])"
   ]
  },
  {
   "cell_type": "markdown",
   "metadata": {},
   "source": [
    "And we can see those same characters from above, encoded as integers."
   ]
  },
  {
   "cell_type": "code",
   "execution_count": 5,
   "metadata": {},
   "outputs": [
    {
     "data": {
      "text/plain": [
       "array([77, 35, 76, 53, 54, 47, 56, 63, 37, 68, 68, 68, 61, 76, 53, 53, 34,\n",
       "       63, 45, 76, 69, 11, 78, 11, 47, 49, 63, 76, 56, 47, 63, 76, 78, 78,\n",
       "       63, 76, 78, 11, 24, 47, 75, 63, 47, 80, 47, 56, 34, 63, 17, 22, 35,\n",
       "       76, 53, 53, 34, 63, 45, 76, 69, 11, 78, 34, 63, 11, 49, 63, 17, 22,\n",
       "       35, 76, 53, 53, 34, 63, 11, 22, 63, 11, 54, 49, 63, 26, 73, 22, 68,\n",
       "       73, 76, 34, 71, 68, 68, 72, 80, 47, 56, 34, 54, 35, 11, 22])"
      ]
     },
     "execution_count": 5,
     "metadata": {},
     "output_type": "execute_result"
    }
   ],
   "source": [
    "encoded[:100]"
   ]
  },
  {
   "cell_type": "markdown",
   "metadata": {},
   "source": [
    "## Pre-processing the data\n",
    "\n",
    "As you can see in our char-RNN image above, our LSTM expects an input that is **one-hot encoded** meaning that each character is converted into an integer (via our created dictionary) and *then* converted into a column vector where only it's corresponding integer index will have the value of 1 and the rest of the vector will be filled with 0's. Since we're one-hot encoding the data, let's make a function to do that!\n"
   ]
  },
  {
   "cell_type": "code",
   "execution_count": 6,
   "metadata": {},
   "outputs": [],
   "source": [
    "def one_hot_encode(arr, n_labels):\n",
    "    \n",
    "    # Initialize the encoded array\n",
    "    one_hot = np.zeros((arr.size, n_labels), dtype=np.float32)\n",
    "    \n",
    "    # Fill the appropriate elements with ones\n",
    "    one_hot[np.arange(one_hot.shape[0]), arr.flatten()] = 1.\n",
    "    \n",
    "    # Finally reshape it to get back to the original array\n",
    "    one_hot = one_hot.reshape((*arr.shape, n_labels))\n",
    "    \n",
    "    return one_hot"
   ]
  },
  {
   "cell_type": "code",
   "execution_count": 7,
   "metadata": {},
   "outputs": [
    {
     "name": "stdout",
     "output_type": "stream",
     "text": [
      "[[[0. 0. 0. 1. 0. 0. 0. 0.]\n",
      "  [0. 0. 0. 0. 0. 1. 0. 0.]\n",
      "  [0. 1. 0. 0. 0. 0. 0. 0.]]]\n"
     ]
    }
   ],
   "source": [
    "# check that the function works as expected\n",
    "test_seq = np.array([[3, 5, 1]])\n",
    "one_hot = one_hot_encode(test_seq, 8)\n",
    "\n",
    "print(one_hot)"
   ]
  },
  {
   "cell_type": "markdown",
   "metadata": {},
   "source": [
    "## Making training mini-batches\n",
    "\n",
    "\n",
    "To train on this data, we also want to create mini-batches for training. Remember that we want our batches to be multiple sequences of some desired number of sequence steps. Considering a simple example, our batches would look like this:\n",
    "\n",
    "<img src=\"assets/sequence_batching@1x.png\" width=500px>\n",
    "\n",
    "\n",
    "<br>\n",
    "\n",
    "In this example, we'll take the encoded characters (passed in as the `arr` parameter) and split them into multiple sequences, given by `batch_size`. Each of our sequences will be `seq_length` long.\n",
    "\n",
    "### Creating Batches\n",
    "\n",
    "**1. The first thing we need to do is discard some of the text so we only have completely full mini-batches. **\n",
    "\n",
    "Each batch contains $N \\times M$ characters, where $N$ is the batch size (the number of sequences in a batch) and $M$ is the seq_length or number of time steps in a sequence. Then, to get the total number of batches, $K$, that we can make from the array `arr`, you divide the length of `arr` by the number of characters per batch. Once you know the number of batches, you can get the total number of characters to keep from `arr`, $N * M * K$.\n",
    "\n",
    "**2. After that, we need to split `arr` into $N$ batches. ** \n",
    "\n",
    "You can do this using `arr.reshape(size)` where `size` is a tuple containing the dimensions sizes of the reshaped array. We know we want $N$ sequences in a batch, so let's make that the size of the first dimension. For the second dimension, you can use `-1` as a placeholder in the size, it'll fill up the array with the appropriate data for you. After this, you should have an array that is $N \\times (M * K)$.\n",
    "\n",
    "**3. Now that we have this array, we can iterate through it to get our mini-batches. **\n",
    "\n",
    "The idea is each batch is a $N \\times M$ window on the $N \\times (M * K)$ array. For each subsequent batch, the window moves over by `seq_length`. We also want to create both the input and target arrays. Remember that the targets are just the inputs shifted over by one character. The way I like to do this window is use `range` to take steps of size `n_steps` from $0$ to `arr.shape[1]`, the total number of tokens in each sequence. That way, the integers you get from `range` always point to the start of a batch, and each window is `seq_length` wide.\n",
    "\n",
    "> **TODO:** Write the code for creating batches in the function below. The exercises in this notebook _will not be easy_. I've provided a notebook with solutions alongside this notebook. If you get stuck, checkout the solutions. The most important thing is that you don't copy and paste the code into here, **type out the solution code yourself.**"
   ]
  },
  {
   "cell_type": "code",
   "execution_count": 8,
   "metadata": {},
   "outputs": [],
   "source": [
    "def get_batches(arr, batch_size, seq_length):\n",
    "    '''Create a generator that returns batches of size\n",
    "       batch_size x seq_length from arr.\n",
    "       \n",
    "       Arguments\n",
    "       ---------\n",
    "       arr: Array you want to make batches from\n",
    "       batch_size: Batch size, the number of sequences per batch\n",
    "       seq_length: Number of encoded chars in a sequence\n",
    "    '''\n",
    "    \n",
    "    ## TODO: Get the number of batches we can make\n",
    "    n_batches = len(arr) // (batch_size*seq_length)\n",
    "    \n",
    "    ## TODO: Keep only enough characters to make full batches\n",
    "    arr = arr[:n_batches*batch_size*seq_length]\n",
    "    \n",
    "    ## TODO: Reshape into batch_size rows\n",
    "    arr = arr.reshape((batch_size, -1))\n",
    "    \n",
    "    ## TODO: Iterate over the batches using a window of size seq_length\n",
    "    for n in range(0, arr.shape[1], seq_length):\n",
    "        # The features\n",
    "        x = arr[:, n : n+seq_length]\n",
    "        # The targets, shifted by one\n",
    "        y = np.zeros_like(x)\n",
    "        try:\n",
    "            y[:, :-1], y[:, -1] = x[:, 1:], arr[:, n + seq_length]\n",
    "        except:\n",
    "            y[:, :-1], y[:, -1] = x[:, 1:], arr[:, 0]\n",
    "        yield x, y"
   ]
  },
  {
   "cell_type": "markdown",
   "metadata": {},
   "source": [
    "### Test Your Implementation\n",
    "\n",
    "Now I'll make some data sets and we can check out what's going on as we batch data. Here, as an example, I'm going to use a batch size of 8 and 50 sequence steps."
   ]
  },
  {
   "cell_type": "code",
   "execution_count": 9,
   "metadata": {},
   "outputs": [],
   "source": [
    "batches = get_batches(encoded, 8, 50)\n",
    "x, y = next(batches)"
   ]
  },
  {
   "cell_type": "code",
   "execution_count": 10,
   "metadata": {},
   "outputs": [
    {
     "name": "stdout",
     "output_type": "stream",
     "text": [
      "x\n",
      " [[77 35 76 53 54 47 56 63 37 68]\n",
      " [49 26 22 63 54 35 76 54 63 76]\n",
      " [47 22  6 63 26 56 63 76 63 45]\n",
      " [49 63 54 35 47 63 82 35 11 47]\n",
      " [63 49 76 73 63 35 47 56 63 54]\n",
      " [82 17 49 49 11 26 22 63 76 22]\n",
      " [63 16 22 22 76 63 35 76  6 63]\n",
      " [36 79 78 26 22 49 24 34 71 63]]\n",
      "\n",
      "y\n",
      " [[35 76 53 54 47 56 63 37 68 68]\n",
      " [26 22 63 54 35 76 54 63 76 54]\n",
      " [22  6 63 26 56 63 76 63 45 26]\n",
      " [63 54 35 47 63 82 35 11 47 45]\n",
      " [49 76 73 63 35 47 56 63 54 47]\n",
      " [17 49 49 11 26 22 63 76 22  6]\n",
      " [16 22 22 76 63 35 76  6 63 49]\n",
      " [79 78 26 22 49 24 34 71 63 44]]\n"
     ]
    }
   ],
   "source": [
    "# printing out the first 10 items in a sequence\n",
    "print('x\\n', x[:10, :10])\n",
    "print('\\ny\\n', y[:10, :10])"
   ]
  },
  {
   "cell_type": "markdown",
   "metadata": {},
   "source": [
    "If you implemented `get_batches` correctly, the above output should look something like \n",
    "```\n",
    "x\n",
    " [[25  8 60 11 45 27 28 73  1  2]\n",
    " [17  7 20 73 45  8 60 45 73 60]\n",
    " [27 20 80 73  7 28 73 60 73 65]\n",
    " [17 73 45  8 27 73 66  8 46 27]\n",
    " [73 17 60 12 73  8 27 28 73 45]\n",
    " [66 64 17 17 46  7 20 73 60 20]\n",
    " [73 76 20 20 60 73  8 60 80 73]\n",
    " [47 35 43  7 20 17 24 50 37 73]]\n",
    "\n",
    "y\n",
    " [[ 8 60 11 45 27 28 73  1  2  2]\n",
    " [ 7 20 73 45  8 60 45 73 60 45]\n",
    " [20 80 73  7 28 73 60 73 65  7]\n",
    " [73 45  8 27 73 66  8 46 27 65]\n",
    " [17 60 12 73  8 27 28 73 45 27]\n",
    " [64 17 17 46  7 20 73 60 20 80]\n",
    " [76 20 20 60 73  8 60 80 73 17]\n",
    " [35 43  7 20 17 24 50 37 73 36]]\n",
    " ```\n",
    " although the exact numbers may be different. Check to make sure the data is shifted over one step for `y`."
   ]
  },
  {
   "cell_type": "markdown",
   "metadata": {},
   "source": [
    "---\n",
    "## Defining the network with PyTorch\n",
    "\n",
    "Below is where you'll define the network.\n",
    "\n",
    "<img src=\"assets/charRNN.png\" width=500px>\n",
    "\n",
    "Next, you'll use PyTorch to define the architecture of the network. We start by defining the layers and operations we want. Then, define a method for the forward pass. You've also been given a method for predicting characters."
   ]
  },
  {
   "cell_type": "markdown",
   "metadata": {},
   "source": [
    "### Model Structure\n",
    "\n",
    "In `__init__` the suggested structure is as follows:\n",
    "* Create and store the necessary dictionaries (this has been done for you)\n",
    "* Define an LSTM layer that takes as params: an input size (the number of characters), a hidden layer size `n_hidden`, a number of layers `n_layers`, a dropout probability `drop_prob`, and a batch_first boolean (True, since we are batching)\n",
    "* Define a dropout layer with `drop_prob`\n",
    "* Define a fully-connected layer with params: input size `n_hidden` and output size (the number of characters)\n",
    "* Finally, initialize the weights (again, this has been given)\n",
    "\n",
    "Note that some parameters have been named and given in the `__init__` function, and we use them and store them by doing something like `self.drop_prob = drop_prob`."
   ]
  },
  {
   "cell_type": "markdown",
   "metadata": {},
   "source": [
    "---\n",
    "### LSTM Inputs/Outputs\n",
    "\n",
    "You can create a basic [LSTM layer](https://pytorch.org/docs/stable/nn.html#lstm) as follows\n",
    "\n",
    "```python\n",
    "self.lstm = nn.LSTM(input_size, n_hidden, n_layers, \n",
    "                            dropout=drop_prob, batch_first=True)\n",
    "```\n",
    "\n",
    "where `input_size` is the number of characters this cell expects to see as sequential input, and `n_hidden` is the number of units in the hidden layers in the cell. And we can add dropout by adding a dropout parameter with a specified probability; this will automatically add dropout to the inputs or outputs. Finally, in the `forward` function, we can stack up the LSTM cells into layers using `.view`. With this, you pass in a list of cells and it will send the output of one cell into the next cell.\n",
    "\n",
    "We also need to create an initial hidden state of all zeros. This is done like so\n",
    "\n",
    "```python\n",
    "self.init_hidden()\n",
    "```"
   ]
  },
  {
   "cell_type": "code",
   "execution_count": 11,
   "metadata": {},
   "outputs": [
    {
     "name": "stdout",
     "output_type": "stream",
     "text": [
      "Training on GPU!\n"
     ]
    }
   ],
   "source": [
    "# check if GPU is available\n",
    "train_on_gpu = torch.cuda.is_available()\n",
    "if(train_on_gpu):\n",
    "    print('Training on GPU!')\n",
    "else: \n",
    "    print('No GPU available, training on CPU; consider making n_epochs very small.')"
   ]
  },
  {
   "cell_type": "code",
   "execution_count": 12,
   "metadata": {},
   "outputs": [],
   "source": [
    "class CharRNN(nn.Module):\n",
    "    \n",
    "    def __init__(self, tokens, n_hidden=256, n_layers=2,\n",
    "                               drop_prob=0.5, lr=0.001):\n",
    "        super().__init__()\n",
    "        self.drop_prob = drop_prob\n",
    "        self.n_layers = n_layers\n",
    "        self.n_hidden = n_hidden\n",
    "        self.lr = lr\n",
    "        \n",
    "        # creating character dictionaries\n",
    "        self.chars = tokens\n",
    "        self.int2char = dict(enumerate(self.chars))\n",
    "        self.char2int = {ch: ii for ii, ch in self.int2char.items()}\n",
    "        \n",
    "        ## TODO: define the layers of the model\n",
    "        self.lstm = nn.LSTM(len(self.chars), n_hidden, n_layers, \n",
    "                            dropout=drop_prob, batch_first=True)\n",
    "        \n",
    "        # Dropout layer\n",
    "        self.dropout = nn.Dropout(drop_prob)\n",
    "        \n",
    "        # last, fully-connected layer\n",
    "        self.fc = nn.Linear(n_hidden, len(self.chars))\n",
    "      \n",
    "    \n",
    "    def forward(self, x, hidden):\n",
    "        ''' Forward pass through the network. \n",
    "            These inputs are x, and the hidden/cell state `hidden`. '''\n",
    "                \n",
    "        ## TODO: Get the outputs and the new hidden state from the lstm\n",
    "        output, hidden = self.lstm(x, hidden)\n",
    "        # Dropping out\n",
    "        output = self.dropout(output)\n",
    "        \n",
    "        # Stacking Up Lstms\n",
    "        output = output.contiguous().view(-1, self.n_hidden)\n",
    "        \n",
    "        out = self.fc(output)\n",
    "        \n",
    "        # return the final output and the hidden state\n",
    "        return out, hidden\n",
    "    \n",
    "    \n",
    "    def init_hidden(self, batch_size):\n",
    "        ''' Initializes hidden state '''\n",
    "        # Create two new tensors with sizes n_layers x batch_size x n_hidden,\n",
    "        # initialized to zero, for hidden state and cell state of LSTM\n",
    "        weight = next(self.parameters()).data\n",
    "        \n",
    "        if (train_on_gpu):\n",
    "            hidden = (weight.new(self.n_layers, batch_size, self.n_hidden).zero_().cuda(),\n",
    "                  weight.new(self.n_layers, batch_size, self.n_hidden).zero_().cuda())\n",
    "        else:\n",
    "            hidden = (weight.new(self.n_layers, batch_size, self.n_hidden).zero_(),\n",
    "                      weight.new(self.n_layers, batch_size, self.n_hidden).zero_())\n",
    "        \n",
    "        return hidden"
   ]
  },
  {
   "cell_type": "markdown",
   "metadata": {},
   "source": [
    "## Time to train\n",
    "\n",
    "The train function gives us the ability to set the number of epochs, the learning rate, and other parameters.\n",
    "\n",
    "Below we're using an Adam optimizer and cross entropy loss since we are looking at character class scores as output. We calculate the loss and perform backpropagation, as usual!\n",
    "\n",
    "A couple of details about training: \n",
    ">* Within the batch loop, we detach the hidden state from its history; this time setting it equal to a new *tuple* variable because an LSTM has a hidden state that is a tuple of the hidden and cell states.\n",
    "* We use [`clip_grad_norm_`](https://pytorch.org/docs/stable/_modules/torch/nn/utils/clip_grad.html) to help prevent exploding gradients."
   ]
  },
  {
   "cell_type": "code",
   "execution_count": 13,
   "metadata": {},
   "outputs": [],
   "source": [
    "def train(net, data, epochs=10, batch_size=10, seq_length=50, lr=0.001, clip=5, val_frac=0.1, print_every=10):\n",
    "    ''' Training a network \n",
    "    \n",
    "        Arguments\n",
    "        ---------\n",
    "        \n",
    "        net: CharRNN network\n",
    "        data: text data to train the network\n",
    "        epochs: Number of epochs to train\n",
    "        batch_size: Number of mini-sequences per mini-batch, aka batch size\n",
    "        seq_length: Number of character steps per mini-batch\n",
    "        lr: learning rate\n",
    "        clip: gradient clipping\n",
    "        val_frac: Fraction of data to hold out for validation\n",
    "        print_every: Number of steps for printing training and validation loss\n",
    "    \n",
    "    '''\n",
    "    net.train()\n",
    "    \n",
    "    opt = torch.optim.Adam(net.parameters(), lr=lr)\n",
    "    criterion = nn.CrossEntropyLoss()\n",
    "    \n",
    "    # create training and validation data\n",
    "    val_idx = int(len(data)*(1-val_frac))\n",
    "    data, val_data = data[:val_idx], data[val_idx:]\n",
    "    \n",
    "    if(train_on_gpu):\n",
    "        net.cuda()\n",
    "    \n",
    "    counter = 0\n",
    "    n_chars = len(net.chars)\n",
    "    for e in range(epochs):\n",
    "        # initialize hidden state\n",
    "        h = net.init_hidden(batch_size)\n",
    "        \n",
    "        for x, y in get_batches(data, batch_size, seq_length):\n",
    "            counter += 1\n",
    "            \n",
    "            # One-hot encode our data and make them Torch tensors\n",
    "            x = one_hot_encode(x, n_chars)\n",
    "            inputs, targets = torch.from_numpy(x), torch.from_numpy(y)\n",
    "            \n",
    "            if(train_on_gpu):\n",
    "                inputs, targets = inputs.cuda(), targets.cuda()\n",
    "\n",
    "            # Creating new variables for the hidden state, otherwise\n",
    "            # we'd backprop through the entire training history\n",
    "            h = tuple([each.data for each in h])\n",
    "\n",
    "            # zero accumulated gradients\n",
    "            net.zero_grad()\n",
    "            \n",
    "            # get the output from the model\n",
    "            output, h = net(inputs, h)\n",
    "            \n",
    "            # calculate the loss and perform backprop\n",
    "            loss = criterion(output, targets.view(batch_size*seq_length).long())\n",
    "            loss.backward()\n",
    "            # `clip_grad_norm` helps prevent the exploding gradient problem in RNNs / LSTMs.\n",
    "            nn.utils.clip_grad_norm_(net.parameters(), clip)\n",
    "            opt.step()\n",
    "            \n",
    "            # loss stats\n",
    "            if counter % print_every == 0:\n",
    "                # Get validation loss\n",
    "                val_h = net.init_hidden(batch_size)\n",
    "                val_losses = []\n",
    "                net.eval()\n",
    "                for x, y in get_batches(val_data, batch_size, seq_length):\n",
    "                    # One-hot encode our data and make them Torch tensors\n",
    "                    x = one_hot_encode(x, n_chars)\n",
    "                    x, y = torch.from_numpy(x), torch.from_numpy(y)\n",
    "                    \n",
    "                    # Creating new variables for the hidden state, otherwise\n",
    "                    # we'd backprop through the entire training history\n",
    "                    val_h = tuple([each.data for each in val_h])\n",
    "                    \n",
    "                    inputs, targets = x, y\n",
    "                    if(train_on_gpu):\n",
    "                        inputs, targets = inputs.cuda(), targets.cuda()\n",
    "\n",
    "                    output, val_h = net(inputs, val_h)\n",
    "                    val_loss = criterion(output, targets.view(batch_size*seq_length).long())\n",
    "                \n",
    "                    val_losses.append(val_loss.item())\n",
    "                \n",
    "                net.train() # reset to train mode after iterationg through validation data\n",
    "                \n",
    "                print(\"Epoch: {}/{}...\".format(e+1, epochs),\n",
    "                      \"Step: {}...\".format(counter),\n",
    "                      \"Loss: {:.4f}...\".format(loss.item()),\n",
    "                      \"Val Loss: {:.4f}\".format(np.mean(val_losses)))"
   ]
  },
  {
   "cell_type": "markdown",
   "metadata": {},
   "source": [
    "## Instantiating the model\n",
    "\n",
    "Now we can actually train the network. First we'll create the network itself, with some given hyperparameters. Then, define the mini-batches sizes, and start training!"
   ]
  },
  {
   "cell_type": "code",
   "execution_count": 14,
   "metadata": {},
   "outputs": [
    {
     "name": "stdout",
     "output_type": "stream",
     "text": [
      "CharRNN(\n",
      "  (lstm): LSTM(83, 512, num_layers=3, batch_first=True, dropout=0.5)\n",
      "  (dropout): Dropout(p=0.5, inplace=False)\n",
      "  (fc): Linear(in_features=512, out_features=83, bias=True)\n",
      ")\n"
     ]
    }
   ],
   "source": [
    "## TODO: set your model hyperparameters\n",
    "# define and print the net\n",
    "n_hidden=512\n",
    "n_layers=3\n",
    "\n",
    "net = CharRNN(chars, n_hidden, n_layers)\n",
    "print(net)"
   ]
  },
  {
   "cell_type": "markdown",
   "metadata": {},
   "source": [
    "### Set your training hyperparameters!"
   ]
  },
  {
   "cell_type": "code",
   "execution_count": 16,
   "metadata": {
    "scrolled": true
   },
   "outputs": [
    {
     "name": "stdout",
     "output_type": "stream",
     "text": [
      "Epoch: 1/20... Step: 10... Loss: 2.3738... Val Loss: 2.3409\n",
      "Epoch: 1/20... Step: 20... Loss: 2.3163... Val Loss: 2.2991\n",
      "Epoch: 1/20... Step: 30... Loss: 2.3174... Val Loss: 2.2727\n",
      "Epoch: 1/20... Step: 40... Loss: 2.2646... Val Loss: 2.2519\n",
      "Epoch: 1/20... Step: 50... Loss: 2.2890... Val Loss: 2.2328\n",
      "Epoch: 1/20... Step: 60... Loss: 2.2110... Val Loss: 2.2125\n",
      "Epoch: 1/20... Step: 70... Loss: 2.2098... Val Loss: 2.1949\n",
      "Epoch: 1/20... Step: 80... Loss: 2.1818... Val Loss: 2.1736\n",
      "Epoch: 1/20... Step: 90... Loss: 2.1919... Val Loss: 2.1532\n",
      "Epoch: 1/20... Step: 100... Loss: 2.1528... Val Loss: 2.1334\n",
      "Epoch: 1/20... Step: 110... Loss: 2.1216... Val Loss: 2.1151\n",
      "Epoch: 1/20... Step: 120... Loss: 2.0794... Val Loss: 2.0910\n",
      "Epoch: 1/20... Step: 130... Loss: 2.1067... Val Loss: 2.0647\n",
      "Epoch: 2/20... Step: 140... Loss: 2.0913... Val Loss: 2.0432\n",
      "Epoch: 2/20... Step: 150... Loss: 2.0617... Val Loss: 2.0169\n",
      "Epoch: 2/20... Step: 160... Loss: 2.0534... Val Loss: 1.9929\n",
      "Epoch: 2/20... Step: 170... Loss: 1.9965... Val Loss: 1.9721\n",
      "Epoch: 2/20... Step: 180... Loss: 1.9720... Val Loss: 1.9512\n",
      "Epoch: 2/20... Step: 190... Loss: 1.9308... Val Loss: 1.9292\n",
      "Epoch: 2/20... Step: 200... Loss: 1.9197... Val Loss: 1.9078\n",
      "Epoch: 2/20... Step: 210... Loss: 1.9130... Val Loss: 1.8941\n",
      "Epoch: 2/20... Step: 220... Loss: 1.8788... Val Loss: 1.8703\n",
      "Epoch: 2/20... Step: 230... Loss: 1.8857... Val Loss: 1.8495\n",
      "Epoch: 2/20... Step: 240... Loss: 1.8767... Val Loss: 1.8330\n",
      "Epoch: 2/20... Step: 250... Loss: 1.8272... Val Loss: 1.8163\n",
      "Epoch: 2/20... Step: 260... Loss: 1.7866... Val Loss: 1.8012\n",
      "Epoch: 2/20... Step: 270... Loss: 1.8260... Val Loss: 1.7869\n",
      "Epoch: 3/20... Step: 280... Loss: 1.8039... Val Loss: 1.7690\n",
      "Epoch: 3/20... Step: 290... Loss: 1.8095... Val Loss: 1.7505\n",
      "Epoch: 3/20... Step: 300... Loss: 1.7621... Val Loss: 1.7376\n",
      "Epoch: 3/20... Step: 310... Loss: 1.7516... Val Loss: 1.7232\n",
      "Epoch: 3/20... Step: 320... Loss: 1.7066... Val Loss: 1.7076\n",
      "Epoch: 3/20... Step: 330... Loss: 1.7042... Val Loss: 1.6979\n",
      "Epoch: 3/20... Step: 340... Loss: 1.7465... Val Loss: 1.6901\n",
      "Epoch: 3/20... Step: 350... Loss: 1.7120... Val Loss: 1.6773\n",
      "Epoch: 3/20... Step: 360... Loss: 1.6620... Val Loss: 1.6719\n",
      "Epoch: 3/20... Step: 370... Loss: 1.6920... Val Loss: 1.6601\n",
      "Epoch: 3/20... Step: 380... Loss: 1.6803... Val Loss: 1.6482\n",
      "Epoch: 3/20... Step: 390... Loss: 1.6526... Val Loss: 1.6383\n",
      "Epoch: 3/20... Step: 400... Loss: 1.6243... Val Loss: 1.6286\n",
      "Epoch: 3/20... Step: 410... Loss: 1.6466... Val Loss: 1.6200\n",
      "Epoch: 4/20... Step: 420... Loss: 1.6365... Val Loss: 1.6170\n",
      "Epoch: 4/20... Step: 430... Loss: 1.6298... Val Loss: 1.6008\n",
      "Epoch: 4/20... Step: 440... Loss: 1.6296... Val Loss: 1.5946\n",
      "Epoch: 4/20... Step: 450... Loss: 1.5744... Val Loss: 1.5831\n",
      "Epoch: 4/20... Step: 460... Loss: 1.5510... Val Loss: 1.5768\n",
      "Epoch: 4/20... Step: 470... Loss: 1.6036... Val Loss: 1.5743\n",
      "Epoch: 4/20... Step: 480... Loss: 1.5834... Val Loss: 1.5630\n",
      "Epoch: 4/20... Step: 490... Loss: 1.5856... Val Loss: 1.5564\n",
      "Epoch: 4/20... Step: 500... Loss: 1.5886... Val Loss: 1.5506\n",
      "Epoch: 4/20... Step: 510... Loss: 1.5557... Val Loss: 1.5452\n",
      "Epoch: 4/20... Step: 520... Loss: 1.5815... Val Loss: 1.5388\n",
      "Epoch: 4/20... Step: 530... Loss: 1.5441... Val Loss: 1.5366\n",
      "Epoch: 4/20... Step: 540... Loss: 1.5107... Val Loss: 1.5289\n",
      "Epoch: 4/20... Step: 550... Loss: 1.5738... Val Loss: 1.5196\n",
      "Epoch: 5/20... Step: 560... Loss: 1.5239... Val Loss: 1.5191\n",
      "Epoch: 5/20... Step: 570... Loss: 1.5193... Val Loss: 1.5099\n",
      "Epoch: 5/20... Step: 580... Loss: 1.5038... Val Loss: 1.5054\n",
      "Epoch: 5/20... Step: 590... Loss: 1.4934... Val Loss: 1.4986\n",
      "Epoch: 5/20... Step: 600... Loss: 1.5001... Val Loss: 1.4923\n",
      "Epoch: 5/20... Step: 610... Loss: 1.4783... Val Loss: 1.4937\n",
      "Epoch: 5/20... Step: 620... Loss: 1.4895... Val Loss: 1.4847\n",
      "Epoch: 5/20... Step: 630... Loss: 1.5119... Val Loss: 1.4826\n",
      "Epoch: 5/20... Step: 640... Loss: 1.4739... Val Loss: 1.4812\n",
      "Epoch: 5/20... Step: 650... Loss: 1.4832... Val Loss: 1.4749\n",
      "Epoch: 5/20... Step: 660... Loss: 1.4625... Val Loss: 1.4707\n",
      "Epoch: 5/20... Step: 670... Loss: 1.4753... Val Loss: 1.4668\n",
      "Epoch: 5/20... Step: 680... Loss: 1.4846... Val Loss: 1.4657\n",
      "Epoch: 5/20... Step: 690... Loss: 1.4666... Val Loss: 1.4590\n",
      "Epoch: 6/20... Step: 700... Loss: 1.4613... Val Loss: 1.4579\n",
      "Epoch: 6/20... Step: 710... Loss: 1.4499... Val Loss: 1.4497\n",
      "Epoch: 6/20... Step: 720... Loss: 1.4423... Val Loss: 1.4525\n",
      "Epoch: 6/20... Step: 730... Loss: 1.4570... Val Loss: 1.4459\n",
      "Epoch: 6/20... Step: 740... Loss: 1.4192... Val Loss: 1.4434\n",
      "Epoch: 6/20... Step: 750... Loss: 1.4164... Val Loss: 1.4406\n",
      "Epoch: 6/20... Step: 760... Loss: 1.4605... Val Loss: 1.4353\n",
      "Epoch: 6/20... Step: 770... Loss: 1.4239... Val Loss: 1.4349\n",
      "Epoch: 6/20... Step: 780... Loss: 1.4218... Val Loss: 1.4300\n",
      "Epoch: 6/20... Step: 790... Loss: 1.4120... Val Loss: 1.4284\n",
      "Epoch: 6/20... Step: 800... Loss: 1.4265... Val Loss: 1.4246\n",
      "Epoch: 6/20... Step: 810... Loss: 1.4125... Val Loss: 1.4242\n",
      "Epoch: 6/20... Step: 820... Loss: 1.3777... Val Loss: 1.4210\n",
      "Epoch: 6/20... Step: 830... Loss: 1.4322... Val Loss: 1.4164\n",
      "Epoch: 7/20... Step: 840... Loss: 1.3870... Val Loss: 1.4128\n",
      "Epoch: 7/20... Step: 850... Loss: 1.4007... Val Loss: 1.4118\n",
      "Epoch: 7/20... Step: 860... Loss: 1.3849... Val Loss: 1.4104\n",
      "Epoch: 7/20... Step: 870... Loss: 1.3890... Val Loss: 1.4073\n",
      "Epoch: 7/20... Step: 880... Loss: 1.4061... Val Loss: 1.4063\n",
      "Epoch: 7/20... Step: 890... Loss: 1.4070... Val Loss: 1.4019\n",
      "Epoch: 7/20... Step: 900... Loss: 1.4000... Val Loss: 1.4000\n",
      "Epoch: 7/20... Step: 910... Loss: 1.3580... Val Loss: 1.3993\n",
      "Epoch: 7/20... Step: 920... Loss: 1.3878... Val Loss: 1.3965\n",
      "Epoch: 7/20... Step: 930... Loss: 1.3692... Val Loss: 1.3951\n",
      "Epoch: 7/20... Step: 940... Loss: 1.3843... Val Loss: 1.3929\n",
      "Epoch: 7/20... Step: 950... Loss: 1.3917... Val Loss: 1.3919\n",
      "Epoch: 7/20... Step: 960... Loss: 1.3903... Val Loss: 1.3869\n",
      "Epoch: 7/20... Step: 970... Loss: 1.3933... Val Loss: 1.3862\n",
      "Epoch: 8/20... Step: 980... Loss: 1.3619... Val Loss: 1.3853\n",
      "Epoch: 8/20... Step: 990... Loss: 1.3643... Val Loss: 1.3827\n",
      "Epoch: 8/20... Step: 1000... Loss: 1.3673... Val Loss: 1.3801\n",
      "Epoch: 8/20... Step: 1010... Loss: 1.3998... Val Loss: 1.3823\n",
      "Epoch: 8/20... Step: 1020... Loss: 1.3817... Val Loss: 1.3825\n",
      "Epoch: 8/20... Step: 1030... Loss: 1.3528... Val Loss: 1.3770\n",
      "Epoch: 8/20... Step: 1040... Loss: 1.3676... Val Loss: 1.3755\n",
      "Epoch: 8/20... Step: 1050... Loss: 1.3400... Val Loss: 1.3734\n",
      "Epoch: 8/20... Step: 1060... Loss: 1.3465... Val Loss: 1.3701\n",
      "Epoch: 8/20... Step: 1070... Loss: 1.3496... Val Loss: 1.3741\n",
      "Epoch: 8/20... Step: 1080... Loss: 1.3488... Val Loss: 1.3700\n",
      "Epoch: 8/20... Step: 1090... Loss: 1.3497... Val Loss: 1.3707\n",
      "Epoch: 8/20... Step: 1100... Loss: 1.3326... Val Loss: 1.3630\n",
      "Epoch: 8/20... Step: 1110... Loss: 1.3413... Val Loss: 1.3650\n",
      "Epoch: 9/20... Step: 1120... Loss: 1.3458... Val Loss: 1.3585\n",
      "Epoch: 9/20... Step: 1130... Loss: 1.3524... Val Loss: 1.3619\n",
      "Epoch: 9/20... Step: 1140... Loss: 1.3560... Val Loss: 1.3583\n",
      "Epoch: 9/20... Step: 1150... Loss: 1.3701... Val Loss: 1.3607\n",
      "Epoch: 9/20... Step: 1160... Loss: 1.3245... Val Loss: 1.3591\n",
      "Epoch: 9/20... Step: 1170... Loss: 1.3391... Val Loss: 1.3544\n",
      "Epoch: 9/20... Step: 1180... Loss: 1.3265... Val Loss: 1.3550\n",
      "Epoch: 9/20... Step: 1190... Loss: 1.3591... Val Loss: 1.3536\n",
      "Epoch: 9/20... Step: 1200... Loss: 1.3063... Val Loss: 1.3547\n",
      "Epoch: 9/20... Step: 1210... Loss: 1.3142... Val Loss: 1.3540\n",
      "Epoch: 9/20... Step: 1220... Loss: 1.3282... Val Loss: 1.3513\n",
      "Epoch: 9/20... Step: 1230... Loss: 1.3088... Val Loss: 1.3516\n",
      "Epoch: 9/20... Step: 1240... Loss: 1.3107... Val Loss: 1.3452\n",
      "Epoch: 9/20... Step: 1250... Loss: 1.3271... Val Loss: 1.3474\n",
      "Epoch: 10/20... Step: 1260... Loss: 1.3210... Val Loss: 1.3429\n",
      "Epoch: 10/20... Step: 1270... Loss: 1.3224... Val Loss: 1.3457\n",
      "Epoch: 10/20... Step: 1280... Loss: 1.3306... Val Loss: 1.3407\n",
      "Epoch: 10/20... Step: 1290... Loss: 1.3269... Val Loss: 1.3428\n",
      "Epoch: 10/20... Step: 1300... Loss: 1.3120... Val Loss: 1.3439\n",
      "Epoch: 10/20... Step: 1310... Loss: 1.3247... Val Loss: 1.3402\n",
      "Epoch: 10/20... Step: 1320... Loss: 1.2826... Val Loss: 1.3416\n",
      "Epoch: 10/20... Step: 1330... Loss: 1.2959... Val Loss: 1.3378\n",
      "Epoch: 10/20... Step: 1340... Loss: 1.2885... Val Loss: 1.3374\n"
     ]
    },
    {
     "name": "stdout",
     "output_type": "stream",
     "text": [
      "Epoch: 10/20... Step: 1350... Loss: 1.2902... Val Loss: 1.3384\n",
      "Epoch: 10/20... Step: 1360... Loss: 1.2893... Val Loss: 1.3377\n",
      "Epoch: 10/20... Step: 1370... Loss: 1.2906... Val Loss: 1.3389\n",
      "Epoch: 10/20... Step: 1380... Loss: 1.3182... Val Loss: 1.3317\n",
      "Epoch: 10/20... Step: 1390... Loss: 1.3511... Val Loss: 1.3325\n",
      "Epoch: 11/20... Step: 1400... Loss: 1.3243... Val Loss: 1.3293\n",
      "Epoch: 11/20... Step: 1410... Loss: 1.3445... Val Loss: 1.3346\n",
      "Epoch: 11/20... Step: 1420... Loss: 1.3365... Val Loss: 1.3265\n",
      "Epoch: 11/20... Step: 1430... Loss: 1.3015... Val Loss: 1.3296\n",
      "Epoch: 11/20... Step: 1440... Loss: 1.3123... Val Loss: 1.3294\n",
      "Epoch: 11/20... Step: 1450... Loss: 1.2564... Val Loss: 1.3277\n",
      "Epoch: 11/20... Step: 1460... Loss: 1.2745... Val Loss: 1.3309\n",
      "Epoch: 11/20... Step: 1470... Loss: 1.2756... Val Loss: 1.3266\n",
      "Epoch: 11/20... Step: 1480... Loss: 1.2899... Val Loss: 1.3266\n",
      "Epoch: 11/20... Step: 1490... Loss: 1.2972... Val Loss: 1.3240\n",
      "Epoch: 11/20... Step: 1500... Loss: 1.2788... Val Loss: 1.3268\n",
      "Epoch: 11/20... Step: 1510... Loss: 1.2551... Val Loss: 1.3263\n",
      "Epoch: 11/20... Step: 1520... Loss: 1.2827... Val Loss: 1.3241\n",
      "Epoch: 12/20... Step: 1530... Loss: 1.3381... Val Loss: 1.3199\n",
      "Epoch: 12/20... Step: 1540... Loss: 1.2960... Val Loss: 1.3196\n",
      "Epoch: 12/20... Step: 1550... Loss: 1.3078... Val Loss: 1.3228\n",
      "Epoch: 12/20... Step: 1560... Loss: 1.3082... Val Loss: 1.3192\n",
      "Epoch: 12/20... Step: 1570... Loss: 1.2659... Val Loss: 1.3197\n",
      "Epoch: 12/20... Step: 1580... Loss: 1.2531... Val Loss: 1.3210\n",
      "Epoch: 12/20... Step: 1590... Loss: 1.2498... Val Loss: 1.3195\n",
      "Epoch: 12/20... Step: 1600... Loss: 1.2691... Val Loss: 1.3205\n",
      "Epoch: 12/20... Step: 1610... Loss: 1.2624... Val Loss: 1.3178\n",
      "Epoch: 12/20... Step: 1620... Loss: 1.2540... Val Loss: 1.3172\n",
      "Epoch: 12/20... Step: 1630... Loss: 1.2874... Val Loss: 1.3166\n",
      "Epoch: 12/20... Step: 1640... Loss: 1.2670... Val Loss: 1.3174\n",
      "Epoch: 12/20... Step: 1650... Loss: 1.2350... Val Loss: 1.3154\n",
      "Epoch: 12/20... Step: 1660... Loss: 1.2996... Val Loss: 1.3129\n",
      "Epoch: 13/20... Step: 1670... Loss: 1.2602... Val Loss: 1.3139\n",
      "Epoch: 13/20... Step: 1680... Loss: 1.2642... Val Loss: 1.3099\n",
      "Epoch: 13/20... Step: 1690... Loss: 1.2595... Val Loss: 1.3101\n",
      "Epoch: 13/20... Step: 1700... Loss: 1.2519... Val Loss: 1.3079\n",
      "Epoch: 13/20... Step: 1710... Loss: 1.2393... Val Loss: 1.3115\n",
      "Epoch: 13/20... Step: 1720... Loss: 1.2535... Val Loss: 1.3122\n",
      "Epoch: 13/20... Step: 1730... Loss: 1.2779... Val Loss: 1.3105\n",
      "Epoch: 13/20... Step: 1740... Loss: 1.2438... Val Loss: 1.3097\n",
      "Epoch: 13/20... Step: 1750... Loss: 1.2210... Val Loss: 1.3107\n",
      "Epoch: 13/20... Step: 1760... Loss: 1.2519... Val Loss: 1.3068\n",
      "Epoch: 13/20... Step: 1770... Loss: 1.2684... Val Loss: 1.3079\n",
      "Epoch: 13/20... Step: 1780... Loss: 1.2467... Val Loss: 1.3088\n",
      "Epoch: 13/20... Step: 1790... Loss: 1.2419... Val Loss: 1.3060\n",
      "Epoch: 13/20... Step: 1800... Loss: 1.2609... Val Loss: 1.3047\n",
      "Epoch: 14/20... Step: 1810... Loss: 1.2678... Val Loss: 1.3077\n",
      "Epoch: 14/20... Step: 1820... Loss: 1.2433... Val Loss: 1.3039\n",
      "Epoch: 14/20... Step: 1830... Loss: 1.2700... Val Loss: 1.3035\n",
      "Epoch: 14/20... Step: 1840... Loss: 1.2126... Val Loss: 1.3042\n",
      "Epoch: 14/20... Step: 1850... Loss: 1.2024... Val Loss: 1.3043\n",
      "Epoch: 14/20... Step: 1860... Loss: 1.2602... Val Loss: 1.3046\n",
      "Epoch: 14/20... Step: 1870... Loss: 1.2556... Val Loss: 1.3024\n",
      "Epoch: 14/20... Step: 1880... Loss: 1.2607... Val Loss: 1.3037\n",
      "Epoch: 14/20... Step: 1890... Loss: 1.2619... Val Loss: 1.3039\n",
      "Epoch: 14/20... Step: 1900... Loss: 1.2511... Val Loss: 1.3023\n",
      "Epoch: 14/20... Step: 1910... Loss: 1.2559... Val Loss: 1.3011\n",
      "Epoch: 14/20... Step: 1920... Loss: 1.2427... Val Loss: 1.3030\n",
      "Epoch: 14/20... Step: 1930... Loss: 1.2060... Val Loss: 1.2982\n",
      "Epoch: 14/20... Step: 1940... Loss: 1.2645... Val Loss: 1.2970\n",
      "Epoch: 15/20... Step: 1950... Loss: 1.2510... Val Loss: 1.2972\n",
      "Epoch: 15/20... Step: 1960... Loss: 1.2443... Val Loss: 1.2953\n",
      "Epoch: 15/20... Step: 1970... Loss: 1.2266... Val Loss: 1.2973\n",
      "Epoch: 15/20... Step: 1980... Loss: 1.2189... Val Loss: 1.3001\n",
      "Epoch: 15/20... Step: 1990... Loss: 1.2253... Val Loss: 1.2969\n",
      "Epoch: 15/20... Step: 2000... Loss: 1.2043... Val Loss: 1.2976\n",
      "Epoch: 15/20... Step: 2010... Loss: 1.2305... Val Loss: 1.2964\n",
      "Epoch: 15/20... Step: 2020... Loss: 1.2436... Val Loss: 1.2961\n",
      "Epoch: 15/20... Step: 2030... Loss: 1.2175... Val Loss: 1.2954\n",
      "Epoch: 15/20... Step: 2040... Loss: 1.2354... Val Loss: 1.2955\n",
      "Epoch: 15/20... Step: 2050... Loss: 1.2157... Val Loss: 1.2944\n",
      "Epoch: 15/20... Step: 2060... Loss: 1.2374... Val Loss: 1.2948\n",
      "Epoch: 15/20... Step: 2070... Loss: 1.2476... Val Loss: 1.2924\n",
      "Epoch: 15/20... Step: 2080... Loss: 1.2340... Val Loss: 1.2925\n",
      "Epoch: 16/20... Step: 2090... Loss: 1.2424... Val Loss: 1.2930\n",
      "Epoch: 16/20... Step: 2100... Loss: 1.2239... Val Loss: 1.2889\n",
      "Epoch: 16/20... Step: 2110... Loss: 1.2124... Val Loss: 1.2951\n",
      "Epoch: 16/20... Step: 2120... Loss: 1.2379... Val Loss: 1.2909\n",
      "Epoch: 16/20... Step: 2130... Loss: 1.2092... Val Loss: 1.2900\n",
      "Epoch: 16/20... Step: 2140... Loss: 1.2222... Val Loss: 1.2952\n",
      "Epoch: 16/20... Step: 2150... Loss: 1.2415... Val Loss: 1.2916\n",
      "Epoch: 16/20... Step: 2160... Loss: 1.2240... Val Loss: 1.2894\n",
      "Epoch: 16/20... Step: 2170... Loss: 1.2199... Val Loss: 1.2925\n",
      "Epoch: 16/20... Step: 2180... Loss: 1.2204... Val Loss: 1.2903\n",
      "Epoch: 16/20... Step: 2190... Loss: 1.2263... Val Loss: 1.2871\n",
      "Epoch: 16/20... Step: 2200... Loss: 1.2199... Val Loss: 1.2887\n",
      "Epoch: 16/20... Step: 2210... Loss: 1.1813... Val Loss: 1.2861\n",
      "Epoch: 16/20... Step: 2220... Loss: 1.2282... Val Loss: 1.2836\n",
      "Epoch: 17/20... Step: 2230... Loss: 1.2101... Val Loss: 1.2900\n",
      "Epoch: 17/20... Step: 2240... Loss: 1.2119... Val Loss: 1.2861\n",
      "Epoch: 17/20... Step: 2250... Loss: 1.1971... Val Loss: 1.2874\n",
      "Epoch: 17/20... Step: 2260... Loss: 1.2051... Val Loss: 1.2909\n",
      "Epoch: 17/20... Step: 2270... Loss: 1.2191... Val Loss: 1.2861\n",
      "Epoch: 17/20... Step: 2280... Loss: 1.2252... Val Loss: 1.2893\n",
      "Epoch: 17/20... Step: 2290... Loss: 1.2259... Val Loss: 1.2876\n",
      "Epoch: 17/20... Step: 2300... Loss: 1.1851... Val Loss: 1.2852\n",
      "Epoch: 17/20... Step: 2310... Loss: 1.2173... Val Loss: 1.2872\n",
      "Epoch: 17/20... Step: 2320... Loss: 1.2061... Val Loss: 1.2872\n",
      "Epoch: 17/20... Step: 2330... Loss: 1.1960... Val Loss: 1.2853\n",
      "Epoch: 17/20... Step: 2340... Loss: 1.2216... Val Loss: 1.2877\n",
      "Epoch: 17/20... Step: 2350... Loss: 1.2218... Val Loss: 1.2819\n",
      "Epoch: 17/20... Step: 2360... Loss: 1.2224... Val Loss: 1.2815\n",
      "Epoch: 18/20... Step: 2370... Loss: 1.1891... Val Loss: 1.2838\n",
      "Epoch: 18/20... Step: 2380... Loss: 1.2065... Val Loss: 1.2816\n",
      "Epoch: 18/20... Step: 2390... Loss: 1.2114... Val Loss: 1.2799\n",
      "Epoch: 18/20... Step: 2400... Loss: 1.2272... Val Loss: 1.2876\n",
      "Epoch: 18/20... Step: 2410... Loss: 1.2157... Val Loss: 1.2826\n",
      "Epoch: 18/20... Step: 2420... Loss: 1.2044... Val Loss: 1.2830\n",
      "Epoch: 18/20... Step: 2430... Loss: 1.2135... Val Loss: 1.2829\n",
      "Epoch: 18/20... Step: 2440... Loss: 1.2006... Val Loss: 1.2819\n",
      "Epoch: 18/20... Step: 2450... Loss: 1.1964... Val Loss: 1.2830\n",
      "Epoch: 18/20... Step: 2460... Loss: 1.2008... Val Loss: 1.2839\n",
      "Epoch: 18/20... Step: 2470... Loss: 1.2022... Val Loss: 1.2796\n",
      "Epoch: 18/20... Step: 2480... Loss: 1.1973... Val Loss: 1.2816\n",
      "Epoch: 18/20... Step: 2490... Loss: 1.1952... Val Loss: 1.2792\n",
      "Epoch: 18/20... Step: 2500... Loss: 1.1919... Val Loss: 1.2768\n",
      "Epoch: 19/20... Step: 2510... Loss: 1.1991... Val Loss: 1.2805\n",
      "Epoch: 19/20... Step: 2520... Loss: 1.2118... Val Loss: 1.2815\n",
      "Epoch: 19/20... Step: 2530... Loss: 1.2092... Val Loss: 1.2803\n",
      "Epoch: 19/20... Step: 2540... Loss: 1.2262... Val Loss: 1.2817\n",
      "Epoch: 19/20... Step: 2550... Loss: 1.1885... Val Loss: 1.2804\n",
      "Epoch: 19/20... Step: 2560... Loss: 1.2013... Val Loss: 1.2782\n",
      "Epoch: 19/20... Step: 2570... Loss: 1.1836... Val Loss: 1.2786\n",
      "Epoch: 19/20... Step: 2580... Loss: 1.2318... Val Loss: 1.2804\n",
      "Epoch: 19/20... Step: 2590... Loss: 1.1899... Val Loss: 1.2795\n",
      "Epoch: 19/20... Step: 2600... Loss: 1.1875... Val Loss: 1.2798\n",
      "Epoch: 19/20... Step: 2610... Loss: 1.1981... Val Loss: 1.2762\n",
      "Epoch: 19/20... Step: 2620... Loss: 1.1773... Val Loss: 1.2772\n",
      "Epoch: 19/20... Step: 2630... Loss: 1.1819... Val Loss: 1.2755\n",
      "Epoch: 19/20... Step: 2640... Loss: 1.2088... Val Loss: 1.2742\n",
      "Epoch: 20/20... Step: 2650... Loss: 1.1941... Val Loss: 1.2764\n"
     ]
    },
    {
     "name": "stdout",
     "output_type": "stream",
     "text": [
      "Epoch: 20/20... Step: 2660... Loss: 1.2038... Val Loss: 1.2812\n",
      "Epoch: 20/20... Step: 2670... Loss: 1.2140... Val Loss: 1.2768\n",
      "Epoch: 20/20... Step: 2680... Loss: 1.2012... Val Loss: 1.2784\n",
      "Epoch: 20/20... Step: 2690... Loss: 1.1973... Val Loss: 1.2794\n",
      "Epoch: 20/20... Step: 2700... Loss: 1.1989... Val Loss: 1.2766\n",
      "Epoch: 20/20... Step: 2710... Loss: 1.1713... Val Loss: 1.2744\n",
      "Epoch: 20/20... Step: 2720... Loss: 1.1746... Val Loss: 1.2743\n",
      "Epoch: 20/20... Step: 2730... Loss: 1.1766... Val Loss: 1.2765\n",
      "Epoch: 20/20... Step: 2740... Loss: 1.1678... Val Loss: 1.2746\n",
      "Epoch: 20/20... Step: 2750... Loss: 1.1846... Val Loss: 1.2753\n",
      "Epoch: 20/20... Step: 2760... Loss: 1.1764... Val Loss: 1.2746\n",
      "Epoch: 20/20... Step: 2770... Loss: 1.2149... Val Loss: 1.2721\n",
      "Epoch: 20/20... Step: 2780... Loss: 1.2415... Val Loss: 1.2706\n"
     ]
    }
   ],
   "source": [
    "batch_size = 128\n",
    "seq_length = 100\n",
    "n_epochs =  20# start small if you are just testing initial behavior\n",
    "\n",
    "# train the model\n",
    "train(net, encoded, epochs=n_epochs, batch_size=batch_size, seq_length=seq_length, lr=0.001, print_every=10)"
   ]
  },
  {
   "cell_type": "markdown",
   "metadata": {},
   "source": [
    "## Getting the best model\n",
    "\n",
    "To set your hyperparameters to get the best performance, you'll want to watch the training and validation losses. If your training loss is much lower than the validation loss, you're overfitting. Increase regularization (more dropout) or use a smaller network. If the training and validation losses are close, you're underfitting so you can increase the size of the network."
   ]
  },
  {
   "cell_type": "markdown",
   "metadata": {},
   "source": [
    "## Hyperparameters\n",
    "\n",
    "Here are the hyperparameters for the network.\n",
    "\n",
    "In defining the model:\n",
    "* `n_hidden` - The number of units in the hidden layers.\n",
    "* `n_layers` - Number of hidden LSTM layers to use.\n",
    "\n",
    "We assume that dropout probability and learning rate will be kept at the default, in this example.\n",
    "\n",
    "And in training:\n",
    "* `batch_size` - Number of sequences running through the network in one pass.\n",
    "* `seq_length` - Number of characters in the sequence the network is trained on. Larger is better typically, the network will learn more long range dependencies. But it takes longer to train. 100 is typically a good number here.\n",
    "* `lr` - Learning rate for training\n",
    "\n",
    "Here's some good advice from Andrej Karpathy on training the network. I'm going to copy it in here for your benefit, but also link to [where it originally came from](https://github.com/karpathy/char-rnn#tips-and-tricks).\n",
    "\n",
    "> ## Tips and Tricks\n",
    "\n",
    ">### Monitoring Validation Loss vs. Training Loss\n",
    ">If you're somewhat new to Machine Learning or Neural Networks it can take a bit of expertise to get good models. The most important quantity to keep track of is the difference between your training loss (printed during training) and the validation loss (printed once in a while when the RNN is run on the validation data (by default every 1000 iterations)). In particular:\n",
    "\n",
    "> - If your training loss is much lower than validation loss then this means the network might be **overfitting**. Solutions to this are to decrease your network size, or to increase dropout. For example you could try dropout of 0.5 and so on.\n",
    "> - If your training/validation loss are about equal then your model is **underfitting**. Increase the size of your model (either number of layers or the raw number of neurons per layer)\n",
    "\n",
    "> ### Approximate number of parameters\n",
    "\n",
    "> The two most important parameters that control the model are `n_hidden` and `n_layers`. I would advise that you always use `n_layers` of either 2/3. The `n_hidden` can be adjusted based on how much data you have. The two important quantities to keep track of here are:\n",
    "\n",
    "> - The number of parameters in your model. This is printed when you start training.\n",
    "> - The size of your dataset. 1MB file is approximately 1 million characters.\n",
    "\n",
    ">These two should be about the same order of magnitude. It's a little tricky to tell. Here are some examples:\n",
    "\n",
    "> - I have a 100MB dataset and I'm using the default parameter settings (which currently print 150K parameters). My data size is significantly larger (100 mil >> 0.15 mil), so I expect to heavily underfit. I am thinking I can comfortably afford to make `n_hidden` larger.\n",
    "> - I have a 10MB dataset and running a 10 million parameter model. I'm slightly nervous and I'm carefully monitoring my validation loss. If it's larger than my training loss then I may want to try to increase dropout a bit and see if that helps the validation loss.\n",
    "\n",
    "> ### Best models strategy\n",
    "\n",
    ">The winning strategy to obtaining very good models (if you have the compute time) is to always err on making the network larger (as large as you're willing to wait for it to compute) and then try different dropout values (between 0,1). Whatever model has the best validation performance (the loss, written in the checkpoint filename, low is good) is the one you should use in the end.\n",
    "\n",
    ">It is very common in deep learning to run many different models with many different hyperparameter settings, and in the end take whatever checkpoint gave the best validation performance.\n",
    "\n",
    ">By the way, the size of your training and validation splits are also parameters. Make sure you have a decent amount of data in your validation set or otherwise the validation performance will be noisy and not very informative."
   ]
  },
  {
   "cell_type": "markdown",
   "metadata": {},
   "source": [
    "## Checkpoint\n",
    "\n",
    "After training, we'll save the model so we can load it again later if we need too. Here I'm saving the parameters needed to create the same architecture, the hidden layer hyperparameters and the text characters."
   ]
  },
  {
   "cell_type": "code",
   "execution_count": 17,
   "metadata": {},
   "outputs": [],
   "source": [
    "# change the name, for saving multiple files\n",
    "model_name = 'rnn_20_epoch.net'\n",
    "\n",
    "checkpoint = {'n_hidden': net.n_hidden,\n",
    "              'n_layers': net.n_layers,\n",
    "              'state_dict': net.state_dict(),\n",
    "              'tokens': net.chars}\n",
    "\n",
    "with open(model_name, 'wb') as f:\n",
    "    torch.save(checkpoint, f)"
   ]
  },
  {
   "cell_type": "markdown",
   "metadata": {},
   "source": [
    "---\n",
    "## Making Predictions\n",
    "\n",
    "Now that the model is trained, we'll want to sample from it and make predictions about next characters! To sample, we pass in a character and have the network predict the next character. Then we take that character, pass it back in, and get another predicted character. Just keep doing this and you'll generate a bunch of text!\n",
    "\n",
    "### A note on the `predict`  function\n",
    "\n",
    "The output of our RNN is from a fully-connected layer and it outputs a **distribution of next-character scores**.\n",
    "\n",
    "> To actually get the next character, we apply a softmax function, which gives us a *probability* distribution that we can then sample to predict the next character.\n",
    "\n",
    "### Top K sampling\n",
    "\n",
    "Our predictions come from a categorical probability distribution over all the possible characters. We can make the sample text and make it more reasonable to handle (with less variables) by only considering some $K$ most probable characters. This will prevent the network from giving us completely absurd characters while allowing it to introduce some noise and randomness into the sampled text. Read more about [topk, here](https://pytorch.org/docs/stable/torch.html#torch.topk).\n"
   ]
  },
  {
   "cell_type": "code",
   "execution_count": 18,
   "metadata": {},
   "outputs": [],
   "source": [
    "def predict(net, char, h=None, top_k=None):\n",
    "        ''' Given a character, predict the next character.\n",
    "            Returns the predicted character and the hidden state.\n",
    "        '''\n",
    "        \n",
    "        # tensor inputs\n",
    "        x = np.array([[net.char2int[char]]])\n",
    "        x = one_hot_encode(x, len(net.chars))\n",
    "        inputs = torch.from_numpy(x)\n",
    "        \n",
    "        if(train_on_gpu):\n",
    "            inputs = inputs.cuda()\n",
    "        \n",
    "        # detach hidden state from history\n",
    "        h = tuple([each.data for each in h])\n",
    "        # get the output of the model\n",
    "        out, h = net(inputs, h)\n",
    "\n",
    "        # get the character probabilities\n",
    "        p = F.softmax(out, dim=1).data\n",
    "        if(train_on_gpu):\n",
    "            p = p.cpu() # move to cpu\n",
    "        \n",
    "        # get top characters\n",
    "        if top_k is None:\n",
    "            top_ch = np.arange(len(net.chars))\n",
    "        else:\n",
    "            p, top_ch = p.topk(top_k)\n",
    "            top_ch = top_ch.numpy().squeeze()\n",
    "        \n",
    "        # select the likely next character with some element of randomness\n",
    "        p = p.numpy().squeeze()\n",
    "        char = np.random.choice(top_ch, p=p/p.sum())\n",
    "        \n",
    "        # return the encoded value of the predicted char and the hidden state\n",
    "        return net.int2char[char], h"
   ]
  },
  {
   "cell_type": "markdown",
   "metadata": {},
   "source": [
    "### Priming and generating text \n",
    "\n",
    "Typically you'll want to prime the network so you can build up a hidden state. Otherwise the network will start out generating characters at random. In general the first bunch of characters will be a little rough since it hasn't built up a long history of characters to predict from."
   ]
  },
  {
   "cell_type": "code",
   "execution_count": 19,
   "metadata": {},
   "outputs": [],
   "source": [
    "def sample(net, size, prime='The', top_k=None):\n",
    "        \n",
    "    if(train_on_gpu):\n",
    "        net.cuda()\n",
    "    else:\n",
    "        net.cpu()\n",
    "    \n",
    "    net.eval() # eval mode\n",
    "    \n",
    "    # First off, run through the prime characters\n",
    "    chars = [ch for ch in prime]\n",
    "    h = net.init_hidden(1)\n",
    "    for ch in prime:\n",
    "        char, h = predict(net, ch, h, top_k=top_k)\n",
    "\n",
    "    chars.append(char)\n",
    "    \n",
    "    # Now pass in the previous character and get a new one\n",
    "    for ii in range(size):\n",
    "        char, h = predict(net, chars[-1], h, top_k=top_k)\n",
    "        chars.append(char)\n",
    "\n",
    "    return ''.join(chars)"
   ]
  },
  {
   "cell_type": "code",
   "execution_count": 20,
   "metadata": {},
   "outputs": [
    {
     "name": "stdout",
     "output_type": "stream",
     "text": [
      "Anna had not been to be sorrow that she had been sinking out another and a smile. She was drinking at a pretcy and househome in her eyes out of some chair, and\n",
      "that he was doing in time in\n",
      "the features, but they were said to him, and was as simply and at once said.\n",
      "\n",
      "She went up to him. All that he had been at the carriage, without\n",
      "carrying the same askable to the sincerity of\n",
      "the same table, with some\n",
      "time when the companies of his soft face, and he was disapprepising\n",
      "a feeling he\n",
      "had to stay which he saw all the mill of the past of a\n",
      "sort of almost from the classes with a faith.\n",
      "The same time they were sitting to her. He smiled in his shoulders. She did not know, and his\n",
      "brother's head taking the baby to the same station, and her sister in the same dead, went into his eyes on the same soul, but that she was sending off, and what was that their side had all to see\n",
      "her husband and hand over his words, as it was not\n",
      "successful\n",
      "or ashamed in the marsh and\n",
      "hard as\n",
      "he did not\n",
      "see\n",
      "what her hair h\n"
     ]
    }
   ],
   "source": [
    "print(sample(net, 1000, prime='Anna', top_k=5))"
   ]
  },
  {
   "cell_type": "markdown",
   "metadata": {},
   "source": [
    "## Loading a checkpoint"
   ]
  },
  {
   "cell_type": "code",
   "execution_count": 22,
   "metadata": {},
   "outputs": [
    {
     "data": {
      "text/plain": [
       "<All keys matched successfully>"
      ]
     },
     "execution_count": 22,
     "metadata": {},
     "output_type": "execute_result"
    }
   ],
   "source": [
    "# Here we have loaded in a model that trained over 20 epochs `rnn_20_epoch.net`\n",
    "with open('rnn_20_epoch.net', 'rb') as f:\n",
    "    checkpoint = torch.load(f)\n",
    "    \n",
    "loaded = CharRNN(checkpoint['tokens'], n_hidden=checkpoint['n_hidden'], n_layers=checkpoint['n_layers'])\n",
    "loaded.load_state_dict(checkpoint['state_dict'])"
   ]
  },
  {
   "cell_type": "code",
   "execution_count": 23,
   "metadata": {},
   "outputs": [
    {
     "name": "stdout",
     "output_type": "stream",
     "text": [
      "And Levin said to her, but the most sets of the position of his wife.\n",
      "\n",
      "\"It is at him at the money.\"\n",
      "\n",
      "\"And\n",
      "to do what you will take it in that. If I was not as at\n",
      "farshen, always any one.\n",
      "Then I cannot go away to him in the forest. How conversation!\" said Varenka.\n",
      "\n",
      "Alexey Alexandrovitch saw that he would say in seeing them and did not still be said to him.\n",
      "\n",
      "Stepan Arkadyevitch saw a strange\n",
      "footmen, so\n",
      "always stood by her husband, and\n",
      "he had a good strong man, and to him so had been been from that contrary, had still more conscious and a step to bles helpen, too, which tee assistance of the\n",
      "fine of the\n",
      "playing humbliater\n",
      "of the marsh. And she was to see him, and and at the children said the countess, and struck him to go, and and his face and had been so characteris than any hands of his band and held and talking of the steps in his face.\n",
      " \"When I have thinking about, and that's tried to suppose I consider it.\"\n",
      "\n",
      "\"I don't know that is there is\n",
      "settled, that I will\n",
      "be at the same strange\n",
      "about her, some trouble to more\n",
      "standing to her to think on it. And it wanted to be a common chief satisfaction, that's a man of a\n",
      "little,\" said Veslovsky, looking round to her hand at\n",
      "the table and weading himself the princess, with a long, wife.\n",
      "\n",
      "\"What are you sitting for him?\"\n",
      "\n",
      "\"What's that is the\n",
      "calm it is it of it,\" she said, glencing up his self-precise at the carriage at a smile,\n",
      "and all all the profeches were considering of all at once.\n",
      "\n",
      "\"I've no sort, and send me to the same and a matter of all the creatures of all and the touth of the\n",
      "softs, that in\n",
      "the merry one thing I have sought the prince.\"\n",
      "\n",
      "\"Well, a comminition that there's the first time I'm\n",
      "a good\n",
      "thing. I've come to do some delightful successful arm.\n",
      "It's not, and the merchants, trying to do something. I did not know.\"\n",
      "\n",
      "\"A mental perfection, it's nothing of it. We shall so much a man then\n",
      "to me,\"\n",
      "said Varenka, at his whole letter, and stood at the first sight of his honor on her life in agracumed to the sound, his significance, an\n"
     ]
    }
   ],
   "source": [
    "# Sample using a loaded model\n",
    "print(sample(loaded, 2000, top_k=5, prime=\"And Levin said\"))"
   ]
  },
  {
   "cell_type": "markdown",
   "metadata": {
    "collapsed": true
   },
   "source": [
    "#### Note"
   ]
  },
  {
   "cell_type": "markdown",
   "metadata": {},
   "source": [
    "Representing Memory\n",
    "You’ve learned that RNN’s work well for sequences of data because they have a kind of memory. This memory is represented by something called the hidden state.\n",
    "\n",
    "In the character-level LSTM example, each LSTM cell, in addition to accepting a character as input and generating an output character, also has some hidden state, and each cell will pass along its hidden state to the next cell.\n",
    "\n",
    "This connection creates a kind of memory by which a series of cells can remember which characters they’ve just seen and use that information to inform the next prediction!\n",
    "\n",
    "For example, if a cell has just generated the character a it likely will not generate another a, right after that!"
   ]
  },
  {
   "cell_type": "code",
   "execution_count": null,
   "metadata": {},
   "outputs": [],
   "source": []
  }
 ],
 "metadata": {
  "kernelspec": {
   "display_name": "Python 3 (ipykernel)",
   "language": "python",
   "name": "python3"
  },
  "language_info": {
   "codemirror_mode": {
    "name": "ipython",
    "version": 3
   },
   "file_extension": ".py",
   "mimetype": "text/x-python",
   "name": "python",
   "nbconvert_exporter": "python",
   "pygments_lexer": "ipython3",
   "version": "3.8.10"
  }
 },
 "nbformat": 4,
 "nbformat_minor": 2
}
